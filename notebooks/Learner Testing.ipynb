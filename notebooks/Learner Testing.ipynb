{
 "cells": [
  {
   "cell_type": "code",
   "execution_count": 1,
   "metadata": {},
   "outputs": [],
   "source": [
    "from varyingsim.envs.push_box_circle import PushBoxCircle, sin_com_slow\n",
    "from varyingsim.datasets.fov_dataset import SmoothFovDataset, SmoothFovDatasetGenerator\n",
    "from varyingsim.util.learn import learn_every_k_single\n",
    "\n",
    "from varyingsim.algos.BufferedModel import BufferedModel\n",
    "from varyingsim.algos.BufferedOSI import BufferedOSI\n",
    "\n",
    "from varyingsim.models.mujoco_dynamics import MuJoCoDynamics, MuJoCoDynamicsFlat\n",
    "from varyingsim.models.osi import OSI\n",
    "\n",
    "\n",
    "import torch\n",
    "import torch.nn as nn\n",
    "import torch.nn.functional as F\n",
    "\n",
    "import numpy as np\n",
    "\n",
    "import matplotlib.pyplot as plt\n",
    "\n",
    "import pickle"
   ]
  },
  {
   "cell_type": "code",
   "execution_count": 2,
   "metadata": {},
   "outputs": [],
   "source": [
    "env = PushBoxCircle()\n",
    "\n",
    "N = 4\n",
    "T = 2000\n",
    "d_obs = env.model.nq + env.model.nv\n",
    "d_in = d_obs + env.model.nu"
   ]
  },
  {
   "cell_type": "code",
   "execution_count": 3,
   "metadata": {},
   "outputs": [],
   "source": [
    "cur_act = np.array([0.0, 0])\n",
    "def act_fn(obs, i, t):\n",
    "    global cur_act # TODO: is there a better way?\n",
    "    if t == 0: # new episode! new control!\n",
    "        cur_act = np.array([0.1 + np.random.rand() * 0.7, np.random.rand() * 2 * np.pi])\n",
    "    return cur_act\n",
    "\n",
    "location = '/data/varyingsim/push_box_circle.pickle'\n",
    "# location = \"D:\\\\data\\\\varyingsim\\\\push_box_circle_small.pickle\"\n",
    "gen = SmoothFovDatasetGenerator(location,  PushBoxCircle, sin_com_slow, act_fn, N, T)"
   ]
  },
  {
   "cell_type": "code",
   "execution_count": 4,
   "metadata": {},
   "outputs": [],
   "source": [
    "dataset = SmoothFovDataset(location, 1)"
   ]
  },
  {
   "cell_type": "code",
   "execution_count": 5,
   "metadata": {},
   "outputs": [
    {
     "data": {
      "text/plain": [
       "{'context_obs': array([[0. , 0. , 0.1, 1. , 0. , 0. , 0. , 0. , 0. , 0. , 0. , 0. , 0. ,\n",
       "         0. , 0. , 0. , 0. ]]),\n",
       " 'context_act': array([[0.10801523, 5.02092998]]),\n",
       " 'obs': array([-9.80585197e-23, -1.53509041e-22,  9.99967587e-02,  1.00000000e+00,\n",
       "         0.00000000e+00,  0.00000000e+00,  0.00000000e+00,  2.60700971e-01,\n",
       "        -1.90452613e-01, -2.89161407e-19, -4.52677547e-19, -4.90387740e-03,\n",
       "         5.01305787e-18, -3.20224159e-18, -1.39973793e-34, -3.28008613e-02,\n",
       "         1.02914494e-01]),\n",
       " 'act': array([0.10801523, 5.02092998]),\n",
       " 'fov': array([4.18879017e-05, 1.50000000e+00, 1.00000000e+00, 1.00000000e+00,\n",
       "        1.00000000e+00]),\n",
       " 'obs_prime': array([-3.89022412e-22,  2.34378668e-11,  9.99919410e-02,  1.00000000e+00,\n",
       "         0.00000000e+00,  0.00000000e+00,  0.00000000e+00,  2.60668170e-01,\n",
       "        -1.90349698e-01, -2.93263601e-19,  4.62093750e-08, -4.73260981e-03,\n",
       "        -5.09095718e-07, -3.16005771e-18,  3.19844162e-20, -3.28008613e-02,\n",
       "         1.02914494e-01]),\n",
       " 'is_start': 0.0}"
      ]
     },
     "execution_count": 5,
     "metadata": {},
     "output_type": "execute_result"
    }
   ],
   "source": [
    "dataset[1]"
   ]
  },
  {
   "cell_type": "code",
   "execution_count": 6,
   "metadata": {},
   "outputs": [],
   "source": [
    "def run_buff_model(buffer_size=1, learn_freq=1, lr=1e-3, d_hidden=64):\n",
    "    model = nn.Sequential(\n",
    "        nn.Linear(d_in, d_hidden),\n",
    "        nn.ReLU(),\n",
    "        nn.Linear(d_hidden, d_hidden),\n",
    "        nn.ReLU(),\n",
    "        nn.Linear(d_hidden, d_obs)\n",
    "    )\n",
    "\n",
    "    mujoco_model = MuJoCoDynamics(env, model)\n",
    "    optim = torch.optim.SGD(mujoco_model.parameters(), lr=lr)\n",
    "\n",
    "    algo = BufferedModel(buffer_size, env, mujoco_model, optim, mujoco_model.delta_layer.mse_loss)\n",
    "\n",
    "    info = learn_every_k_single(algo, dataset, learn_freq, print_iter=1500)\n",
    "\n",
    "    return {'algo': algo, 'mujoco_model': model, 'algo': algo, 'info': info}"
   ]
  },
  {
   "cell_type": "code",
   "execution_count": 7,
   "metadata": {},
   "outputs": [],
   "source": [
    "def run_buff_osi(buffer_size=1, learn_freq=1, lr=1e-3, h=32, d_hidden_dynamics=64,\n",
    "                 d_latent=4, d_hidden_shared=32, d_hidden_osi=64):\n",
    "    model = nn.Sequential(\n",
    "        nn.Linear(d_in, d_hidden_dynamics),\n",
    "        nn.ReLU(),\n",
    "        nn.Linear(d_hidden_dynamics, d_hidden_dynamics),\n",
    "        nn.ReLU(),\n",
    "        nn.Linear(d_hidden_dynamics, d_obs)\n",
    "    )\n",
    "\n",
    "    mujoco_model = MuJoCoDynamicsFlat(env, model)\n",
    "    optim = torch.optim.SGD(mujoco_model.parameters(), lr=lr)\n",
    "\n",
    "    osi_model = OSI(h, d_in, d_latent, d_hidden_shared, d_hidden_osi)\n",
    "    \n",
    "    algo = BufferedOSI(buffer_size, env, osi_model, mujoco_model, optim, h)\n",
    "\n",
    "    info = learn_every_k_single(algo, dataset, learn_freq, print_iter=1500)\n",
    "\n",
    "    return {'algo': algo, 'mujoco_model': model, 'algo': algo, 'info': info}\n"
   ]
  },
  {
   "cell_type": "code",
   "execution_count": 8,
   "metadata": {
    "scrolled": true
   },
   "outputs": [
    {
     "ename": "TypeError",
     "evalue": "forward() takes 2 positional arguments but 4 were given",
     "output_type": "error",
     "traceback": [
      "\u001b[1;31m---------------------------------------------------------------------------\u001b[0m",
      "\u001b[1;31mTypeError\u001b[0m                                 Traceback (most recent call last)",
      "\u001b[1;32m<ipython-input-8-1be97d12e35c>\u001b[0m in \u001b[0;36m<module>\u001b[1;34m\u001b[0m\n\u001b[0;32m      4\u001b[0m \u001b[0minfos\u001b[0m \u001b[1;33m=\u001b[0m \u001b[1;33m[\u001b[0m\u001b[1;33m]\u001b[0m\u001b[1;33m\u001b[0m\u001b[1;33m\u001b[0m\u001b[0m\n\u001b[0;32m      5\u001b[0m \u001b[1;32mfor\u001b[0m \u001b[0mbuffer_size\u001b[0m \u001b[1;32min\u001b[0m \u001b[1;33m[\u001b[0m\u001b[1;36m1\u001b[0m\u001b[1;33m,\u001b[0m \u001b[1;36m2000\u001b[0m\u001b[1;33m]\u001b[0m\u001b[1;33m:\u001b[0m\u001b[1;33m\u001b[0m\u001b[1;33m\u001b[0m\u001b[0m\n\u001b[1;32m----> 6\u001b[1;33m     \u001b[0minfo\u001b[0m \u001b[1;33m=\u001b[0m \u001b[0mrun\u001b[0m\u001b[1;33m(\u001b[0m\u001b[0mbuffer_size\u001b[0m\u001b[1;33m=\u001b[0m\u001b[0mbuffer_size\u001b[0m\u001b[1;33m)\u001b[0m\u001b[1;33m\u001b[0m\u001b[1;33m\u001b[0m\u001b[0m\n\u001b[0m\u001b[0;32m      7\u001b[0m     \u001b[0minfo\u001b[0m\u001b[1;33m[\u001b[0m\u001b[1;34m'buffer_size'\u001b[0m\u001b[1;33m]\u001b[0m \u001b[1;33m=\u001b[0m \u001b[0mbuffer_size\u001b[0m\u001b[1;33m\u001b[0m\u001b[1;33m\u001b[0m\u001b[0m\n\u001b[0;32m      8\u001b[0m     \u001b[0minfos\u001b[0m\u001b[1;33m.\u001b[0m\u001b[0mappend\u001b[0m\u001b[1;33m(\u001b[0m\u001b[0minfo\u001b[0m\u001b[1;33m)\u001b[0m\u001b[1;33m\u001b[0m\u001b[1;33m\u001b[0m\u001b[0m\n",
      "\u001b[1;32m<ipython-input-7-22cc56a98545>\u001b[0m in \u001b[0;36mrun_buff_osi\u001b[1;34m(buffer_size, learn_freq, lr, h, d_hidden_dynamics, d_latent, d_hidden_shared, d_hidden_osi)\u001b[0m\n\u001b[0;32m     16\u001b[0m     \u001b[0malgo\u001b[0m \u001b[1;33m=\u001b[0m \u001b[0mBufferedOSI\u001b[0m\u001b[1;33m(\u001b[0m\u001b[0mbuffer_size\u001b[0m\u001b[1;33m,\u001b[0m \u001b[0menv\u001b[0m\u001b[1;33m,\u001b[0m \u001b[0mosi_model\u001b[0m\u001b[1;33m,\u001b[0m \u001b[0mmujoco_model\u001b[0m\u001b[1;33m,\u001b[0m \u001b[0moptim\u001b[0m\u001b[1;33m,\u001b[0m \u001b[0mh\u001b[0m\u001b[1;33m)\u001b[0m\u001b[1;33m\u001b[0m\u001b[1;33m\u001b[0m\u001b[0m\n\u001b[0;32m     17\u001b[0m \u001b[1;33m\u001b[0m\u001b[0m\n\u001b[1;32m---> 18\u001b[1;33m     \u001b[0minfo\u001b[0m \u001b[1;33m=\u001b[0m \u001b[0mlearn_every_k_single\u001b[0m\u001b[1;33m(\u001b[0m\u001b[0malgo\u001b[0m\u001b[1;33m,\u001b[0m \u001b[0mdataset\u001b[0m\u001b[1;33m,\u001b[0m \u001b[0mlearn_freq\u001b[0m\u001b[1;33m,\u001b[0m \u001b[0mprint_iter\u001b[0m\u001b[1;33m=\u001b[0m\u001b[1;36m1500\u001b[0m\u001b[1;33m)\u001b[0m\u001b[1;33m\u001b[0m\u001b[1;33m\u001b[0m\u001b[0m\n\u001b[0m\u001b[0;32m     19\u001b[0m \u001b[1;33m\u001b[0m\u001b[0m\n\u001b[0;32m     20\u001b[0m     \u001b[1;32mreturn\u001b[0m \u001b[1;33m{\u001b[0m\u001b[1;34m'algo'\u001b[0m\u001b[1;33m:\u001b[0m \u001b[0malgo\u001b[0m\u001b[1;33m,\u001b[0m \u001b[1;34m'mujoco_model'\u001b[0m\u001b[1;33m:\u001b[0m \u001b[0mmodel\u001b[0m\u001b[1;33m,\u001b[0m \u001b[1;34m'algo'\u001b[0m\u001b[1;33m:\u001b[0m \u001b[0malgo\u001b[0m\u001b[1;33m,\u001b[0m \u001b[1;34m'info'\u001b[0m\u001b[1;33m:\u001b[0m \u001b[0minfo\u001b[0m\u001b[1;33m}\u001b[0m\u001b[1;33m\u001b[0m\u001b[1;33m\u001b[0m\u001b[0m\n",
      "\u001b[1;32mc:\\users\\ben\\projects\\varyingsim\\varyingsim\\util\\learn.py\u001b[0m in \u001b[0;36mlearn_every_k_single\u001b[1;34m(algo, dataset, k, print_iter)\u001b[0m\n\u001b[0;32m     28\u001b[0m         \u001b[1;32mif\u001b[0m \u001b[0mdatum\u001b[0m\u001b[1;33m[\u001b[0m\u001b[1;34m'is_start'\u001b[0m\u001b[1;33m]\u001b[0m\u001b[1;33m:\u001b[0m\u001b[1;33m\u001b[0m\u001b[1;33m\u001b[0m\u001b[0m\n\u001b[0;32m     29\u001b[0m             \u001b[0malgo\u001b[0m\u001b[1;33m.\u001b[0m\u001b[0mbuffer\u001b[0m\u001b[1;33m.\u001b[0m\u001b[0mset_new_traj\u001b[0m\u001b[1;33m(\u001b[0m\u001b[1;33m)\u001b[0m\u001b[1;33m\u001b[0m\u001b[1;33m\u001b[0m\u001b[0m\n\u001b[1;32m---> 30\u001b[1;33m         \u001b[0malgo\u001b[0m\u001b[1;33m.\u001b[0m\u001b[0madd_datum\u001b[0m\u001b[1;33m(\u001b[0m\u001b[0mdatum\u001b[0m\u001b[1;33m)\u001b[0m\u001b[1;33m\u001b[0m\u001b[1;33m\u001b[0m\u001b[0m\n\u001b[0m\u001b[0;32m     31\u001b[0m \u001b[1;33m\u001b[0m\u001b[0m\n\u001b[0;32m     32\u001b[0m         \u001b[0mdatum_t\u001b[0m \u001b[1;33m=\u001b[0m \u001b[0mtorchify\u001b[0m\u001b[1;33m(\u001b[0m\u001b[0mdatum\u001b[0m\u001b[1;33m)\u001b[0m\u001b[1;33m\u001b[0m\u001b[1;33m\u001b[0m\u001b[0m\n",
      "\u001b[1;32mc:\\users\\ben\\projects\\varyingsim\\varyingsim\\algos\\BufferedOSI.py\u001b[0m in \u001b[0;36madd_datum\u001b[1;34m(self, x)\u001b[0m\n\u001b[0;32m    101\u001b[0m         \u001b[1;31m# loss on most recent data point\u001b[0m\u001b[1;33m\u001b[0m\u001b[1;33m\u001b[0m\u001b[1;33m\u001b[0m\u001b[0m\n\u001b[0;32m    102\u001b[0m         \u001b[0mbatch\u001b[0m \u001b[1;33m=\u001b[0m \u001b[0mself\u001b[0m\u001b[1;33m.\u001b[0m\u001b[0mbuffer\u001b[0m\u001b[1;33m.\u001b[0m\u001b[0mget_hist\u001b[0m\u001b[1;33m(\u001b[0m\u001b[0mself\u001b[0m\u001b[1;33m.\u001b[0m\u001b[0mtraj_len\u001b[0m\u001b[1;33m)\u001b[0m\u001b[1;33m\u001b[0m\u001b[1;33m\u001b[0m\u001b[0m\n\u001b[1;32m--> 103\u001b[1;33m         \u001b[0mdatum_loss\u001b[0m \u001b[1;33m=\u001b[0m \u001b[0mself\u001b[0m\u001b[1;33m.\u001b[0m\u001b[0mget_loss\u001b[0m\u001b[1;33m(\u001b[0m\u001b[0mbatch\u001b[0m\u001b[1;33m)\u001b[0m\u001b[1;33m.\u001b[0m\u001b[0mitem\u001b[0m\u001b[1;33m(\u001b[0m\u001b[1;33m)\u001b[0m\u001b[1;33m\u001b[0m\u001b[1;33m\u001b[0m\u001b[0m\n\u001b[0m\u001b[0;32m    104\u001b[0m \u001b[1;33m\u001b[0m\u001b[0m\n\u001b[0;32m    105\u001b[0m         \u001b[0mret\u001b[0m \u001b[1;33m=\u001b[0m \u001b[0mdict\u001b[0m\u001b[1;33m(\u001b[0m\u001b[0mt\u001b[0m\u001b[1;33m=\u001b[0m\u001b[0mself\u001b[0m\u001b[1;33m.\u001b[0m\u001b[0mt\u001b[0m\u001b[1;33m,\u001b[0m \u001b[0mdatum_loss\u001b[0m\u001b[1;33m=\u001b[0m\u001b[0mdatum_loss\u001b[0m\u001b[1;33m)\u001b[0m\u001b[1;33m\u001b[0m\u001b[1;33m\u001b[0m\u001b[0m\n",
      "\u001b[1;32mc:\\users\\ben\\projects\\varyingsim\\varyingsim\\algos\\BufferedOSI.py\u001b[0m in \u001b[0;36mget_loss\u001b[1;34m(self, batch, reduction)\u001b[0m\n\u001b[0;32m     89\u001b[0m         \u001b[0mx_prev\u001b[0m \u001b[1;33m=\u001b[0m \u001b[0mx_prev\u001b[0m\u001b[1;33m.\u001b[0m\u001b[0mto\u001b[0m\u001b[1;33m(\u001b[0m\u001b[0mself\u001b[0m\u001b[1;33m.\u001b[0m\u001b[0mdevice\u001b[0m\u001b[1;33m)\u001b[0m\u001b[1;33m\u001b[0m\u001b[1;33m\u001b[0m\u001b[0m\n\u001b[0;32m     90\u001b[0m \u001b[1;33m\u001b[0m\u001b[0m\n\u001b[1;32m---> 91\u001b[1;33m         \u001b[0my_hat\u001b[0m \u001b[1;33m=\u001b[0m \u001b[0mself\u001b[0m\u001b[1;33m(\u001b[0m\u001b[0mx\u001b[0m\u001b[1;33m,\u001b[0m \u001b[0mx_prev\u001b[0m\u001b[1;33m,\u001b[0m \u001b[0mx_osi\u001b[0m\u001b[1;33m)\u001b[0m\u001b[1;33m\u001b[0m\u001b[1;33m\u001b[0m\u001b[0m\n\u001b[0m\u001b[0;32m     92\u001b[0m         \u001b[0mloss\u001b[0m \u001b[1;33m=\u001b[0m \u001b[0mF\u001b[0m\u001b[1;33m.\u001b[0m\u001b[0mmse_loss\u001b[0m\u001b[1;33m(\u001b[0m\u001b[0my_hat\u001b[0m\u001b[1;33m,\u001b[0m \u001b[0my\u001b[0m\u001b[1;33m,\u001b[0m \u001b[0mreduction\u001b[0m\u001b[1;33m=\u001b[0m\u001b[0mreduction\u001b[0m\u001b[1;33m)\u001b[0m\u001b[1;33m\u001b[0m\u001b[1;33m\u001b[0m\u001b[0m\n\u001b[0;32m     93\u001b[0m         \u001b[1;32mreturn\u001b[0m \u001b[0mloss\u001b[0m\u001b[1;33m\u001b[0m\u001b[1;33m\u001b[0m\u001b[0m\n",
      "\u001b[1;32mC:\\Miniconda3\\envs\\varyingsim\\lib\\site-packages\\torch\\nn\\modules\\module.py\u001b[0m in \u001b[0;36m_call_impl\u001b[1;34m(self, *input, **kwargs)\u001b[0m\n\u001b[0;32m    725\u001b[0m             \u001b[0mresult\u001b[0m \u001b[1;33m=\u001b[0m \u001b[0mself\u001b[0m\u001b[1;33m.\u001b[0m\u001b[0m_slow_forward\u001b[0m\u001b[1;33m(\u001b[0m\u001b[1;33m*\u001b[0m\u001b[0minput\u001b[0m\u001b[1;33m,\u001b[0m \u001b[1;33m**\u001b[0m\u001b[0mkwargs\u001b[0m\u001b[1;33m)\u001b[0m\u001b[1;33m\u001b[0m\u001b[1;33m\u001b[0m\u001b[0m\n\u001b[0;32m    726\u001b[0m         \u001b[1;32melse\u001b[0m\u001b[1;33m:\u001b[0m\u001b[1;33m\u001b[0m\u001b[1;33m\u001b[0m\u001b[0m\n\u001b[1;32m--> 727\u001b[1;33m             \u001b[0mresult\u001b[0m \u001b[1;33m=\u001b[0m \u001b[0mself\u001b[0m\u001b[1;33m.\u001b[0m\u001b[0mforward\u001b[0m\u001b[1;33m(\u001b[0m\u001b[1;33m*\u001b[0m\u001b[0minput\u001b[0m\u001b[1;33m,\u001b[0m \u001b[1;33m**\u001b[0m\u001b[0mkwargs\u001b[0m\u001b[1;33m)\u001b[0m\u001b[1;33m\u001b[0m\u001b[1;33m\u001b[0m\u001b[0m\n\u001b[0m\u001b[0;32m    728\u001b[0m         for hook in itertools.chain(\n\u001b[0;32m    729\u001b[0m                 \u001b[0m_global_forward_hooks\u001b[0m\u001b[1;33m.\u001b[0m\u001b[0mvalues\u001b[0m\u001b[1;33m(\u001b[0m\u001b[1;33m)\u001b[0m\u001b[1;33m,\u001b[0m\u001b[1;33m\u001b[0m\u001b[1;33m\u001b[0m\u001b[0m\n",
      "\u001b[1;31mTypeError\u001b[0m: forward() takes 2 positional arguments but 4 were given"
     ]
    }
   ],
   "source": [
    "# varying buffer size exp\n",
    "# TODO: vary learn_freq with bbuffer_sizer size?\n",
    "run = run_buff_osi\n",
    "infos = []\n",
    "for buffer_size in [1, 2000]:\n",
    "    info = run(buffer_size=buffer_size)\n",
    "    info['buffer_size'] = buffer_size\n",
    "    infos.append(info)"
   ]
  },
  {
   "cell_type": "code",
   "execution_count": null,
   "metadata": {},
   "outputs": [],
   "source": [
    "with open('infos_small.pickle', 'wb') as f:\n",
    "    pickle.dump(infos, f)"
   ]
  },
  {
   "cell_type": "code",
   "execution_count": null,
   "metadata": {},
   "outputs": [],
   "source": [
    "all_trains = []\n",
    "all_tests = []\n",
    "buf_sizes = []\n",
    "\n",
    "for run_info in infos:\n",
    "    info = run_info['info']\n",
    "    train_losses = info['train_losses']\n",
    "    test_losses = info['test_losses']\n",
    "    buffer_size = run_info['buffer_size']\n",
    "    all_trains.append(train_losses)\n",
    "    all_tests.append(test_losses)\n",
    "    buf_sizes.append(buffer_size)"
   ]
  },
  {
   "cell_type": "code",
   "execution_count": null,
   "metadata": {},
   "outputs": [],
   "source": [
    "%matplotlib inline\n",
    "start_idx = 2050\n",
    "xs = np.arange(start_idx, len(all_trains[0]))\n",
    "\n",
    "plt.title('train loss')\n",
    "for i, train_loss in enumerate(all_trains):\n",
    "    plt.plot(xs, train_loss[start_idx:], label=buf_sizes[i])\n",
    "    plt.legend()\n",
    "    print(buf_sizes[i], 'mean',np.mean(train_loss[start_idx:]))\n",
    "    print(buf_sizes[i], 'max',np.max(train_loss[start_idx:]))\n",
    "\n",
    "plt.show()\n",
    "    \n",
    "plt.title('test loss')\n",
    "for i, test_loss in enumerate(all_tests):\n",
    "    plt.plot(xs, test_loss[start_idx:], label=buf_sizes[i])\n",
    "    plt.legend()\n",
    "    print(buf_sizes[i], 'mean', np.mean(test_loss[start_idx:]))\n",
    "    print(buf_sizes[i], 'max',np.max(test_loss[start_idx:]))\n",
    "plt.show()\n",
    "\n"
   ]
  },
  {
   "cell_type": "code",
   "execution_count": null,
   "metadata": {},
   "outputs": [],
   "source": []
  },
  {
   "cell_type": "code",
   "execution_count": null,
   "metadata": {},
   "outputs": [],
   "source": []
  }
 ],
 "metadata": {
  "kernelspec": {
   "display_name": "Python 3",
   "language": "python",
   "name": "python3"
  },
  "language_info": {
   "codemirror_mode": {
    "name": "ipython",
    "version": 3
   },
   "file_extension": ".py",
   "mimetype": "text/x-python",
   "name": "python",
   "nbconvert_exporter": "python",
   "pygments_lexer": "ipython3",
   "version": "3.8.5"
  }
 },
 "nbformat": 4,
 "nbformat_minor": 4
}
