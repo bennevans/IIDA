{
 "cells": [
  {
   "cell_type": "code",
   "execution_count": 131,
   "metadata": {},
   "outputs": [],
   "source": [
    "import numpy as np\n",
    "import matplotlib.pyplot as plt\n",
    "import pickle"
   ]
  },
  {
   "cell_type": "code",
   "execution_count": 108,
   "metadata": {},
   "outputs": [],
   "source": [
    "theta = np.pi\n",
    "psi = np.pi / 2"
   ]
  },
  {
   "cell_type": "code",
   "execution_count": 109,
   "metadata": {},
   "outputs": [],
   "source": [
    "def gen_start_end(theta, psi):\n",
    "    start_x, start_y = -np.cos(theta), -np.sin(theta)\n",
    "    end_x = np.cos(theta) + np.cos(theta + psi)\n",
    "    end_y = np.sin(theta) + np.sin(theta + psi)\n",
    "    return start_x, start_y, end_x, end_y\n"
   ]
  },
  {
   "cell_type": "code",
   "execution_count": 110,
   "metadata": {},
   "outputs": [],
   "source": [
    "start_x, start_y, end_x, end_y = gen_start_end(theta, psi)"
   ]
  },
  {
   "cell_type": "code",
   "execution_count": 111,
   "metadata": {},
   "outputs": [
    {
     "data": {
      "text/plain": [
       "<matplotlib.legend.Legend at 0x7f86f3204f70>"
      ]
     },
     "execution_count": 111,
     "metadata": {},
     "output_type": "execute_result"
    },
    {
     "data": {
      "image/png": "[encoded data removed]",
      "text/plain": [
       "<Figure size 432x288 with 1 Axes>"
      ]
     },
     "metadata": {
      "needs_background": "light"
     },
     "output_type": "display_data"
    }
   ],
   "source": [
    "plt.scatter(start_x, start_y, label='start')\n",
    "plt.scatter(end_x, end_y, label='end')\n",
    "plt.xlim(-2, 2)\n",
    "plt.ylim(-2,2)\n",
    "plt.legend()"
   ]
  },
  {
   "cell_type": "code",
   "execution_count": 135,
   "metadata": {},
   "outputs": [],
   "source": [
    "thetas = np.array([0,np.pi/2, np.pi])"
   ]
  },
  {
   "cell_type": "code",
   "execution_count": 61,
   "metadata": {},
   "outputs": [
    {
     "data": {
      "text/plain": [
       "array([-0.0000000e+00, -1.0000000e+00, -1.2246468e-16])"
      ]
     },
     "execution_count": 61,
     "metadata": {},
     "output_type": "execute_result"
    }
   ],
   "source": [
    "-np.sin(thetas)"
   ]
  },
  {
   "cell_type": "code",
   "execution_count": 139,
   "metadata": {},
   "outputs": [],
   "source": [
    "n_act = 100\n",
    "n_episodes = 100\n",
    "psis = np.random.uniform(-np.pi / 2, np.pi / 2, n_episodes)\n",
    "\n",
    "X_all = np.zeros((n_episodes, n_act, 2))\n",
    "Y_all = np.zeros((n_episodes, n_act, 2))\n",
    "\n",
    "for i, psi in enumerate(psis):\n",
    "    thetas = np.random.uniform(0, 2 * np.pi, n_act)\n",
    "    start_x, start_y, end_x, end_y = gen_start_end(thetas, psi)\n",
    "    \n",
    "    X_all[i] = np.stack([start_x, start_y], axis=1)\n",
    "    Y_all[i] = np.stack([end_x, end_y], axis=1)"
   ]
  },
  {
   "cell_type": "code",
   "execution_count": 143,
   "metadata": {},
   "outputs": [
    {
     "data": {
      "text/plain": [
       "<matplotlib.legend.Legend at 0x7f86f2e70730>"
      ]
     },
     "execution_count": 143,
     "metadata": {},
     "output_type": "execute_result"
    },
    {
     "data": {
      "image/png": "[encoded data removed]",
      "text/plain": [
       "<Figure size 432x288 with 1 Axes>"
      ]
     },
     "metadata": {
      "needs_background": "light"
     },
     "output_type": "display_data"
    }
   ],
   "source": [
    "plt.scatter(X_all[1, :, 0], X_all[1, :, 1], label='start x 1')\n",
    "plt.scatter(Y_all[:, :, 0], Y_all[:, :, 1], label='end x 1')\n",
    "# plt.scatter(Y_all[2, :, 0], Y_all[2, :, 1], label='end x 2')\n",
    "\n",
    "plt.legend()"
   ]
  },
  {
   "cell_type": "code",
   "execution_count": 141,
   "metadata": {},
   "outputs": [
    {
     "data": {
      "text/plain": [
       "array([ 0.51208558, -0.72035332,  0.06373412, -0.067584  , -1.5241604 ,\n",
       "       -0.79270492, -0.28525985,  0.17383806, -1.41428644,  0.47996737,\n",
       "       -0.88043603,  1.19663471,  0.34054767,  0.29569751,  0.84811897,\n",
       "        0.21104198, -0.21319474,  1.0385463 ,  0.94018458,  0.24389841,\n",
       "        0.79237161,  0.08068673, -0.82601915, -1.37814609,  0.45909404,\n",
       "       -1.49296334, -1.00848049,  1.13287041,  0.42461187, -0.35819852,\n",
       "       -1.28073573,  0.59152633,  1.46633912, -1.51498283, -0.05179373,\n",
       "        1.12894342,  0.14306004,  0.94722763, -0.185348  , -0.40738905,\n",
       "        1.39656262, -0.22060307, -1.38242216,  0.50768757,  1.35382027,\n",
       "       -0.65316506, -1.02644184,  0.30090569,  1.04662112,  0.66477656,\n",
       "        1.36232576,  0.32891948, -0.22252703,  0.27450314, -1.01899497,\n",
       "        0.07736574,  0.95124645,  0.09715947,  1.46995961, -0.68292878,\n",
       "        0.3253116 , -1.23979588, -1.27887638,  0.250655  ,  1.11528987,\n",
       "       -1.33253507,  0.4564033 , -0.2540958 ,  0.0565389 ,  0.21650192,\n",
       "       -1.16645052,  0.7044951 , -0.70436631, -0.18640423,  0.70625651,\n",
       "        0.49880628,  0.94405112, -0.93697852, -0.80348053, -1.36452754,\n",
       "        0.69176163,  1.29210958,  1.19057323, -0.36622076, -0.03488697,\n",
       "       -1.43119971,  0.48977587,  0.24668667, -0.1918242 , -0.19975416,\n",
       "        0.87100817,  0.67328319, -0.38529998,  1.47357018,  0.71039357,\n",
       "        0.59062402, -0.88818601, -0.46401266, -0.15607852,  0.56085462])"
      ]
     },
     "execution_count": 141,
     "metadata": {},
     "output_type": "execute_result"
    }
   ],
   "source": [
    "psis"
   ]
  },
  {
   "cell_type": "code",
   "execution_count": 144,
   "metadata": {},
   "outputs": [],
   "source": [
    "data = dict(X=X_all, Y=Y_all, psi=psis)\n",
    "with open('/data/varyingsim/datasets/toy.pickle', 'wb') as f:\n",
    "    pickle.dump(data, f)"
   ]
  },
  {
   "cell_type": "code",
   "execution_count": null,
   "metadata": {},
   "outputs": [],
   "source": []
  }
 ],
 "metadata": {
  "kernelspec": {
   "display_name": "Python 3",
   "language": "python",
   "name": "python3"
  },
  "language_info": {
   "codemirror_mode": {
    "name": "ipython",
    "version": 3
   },
   "file_extension": ".py",
   "mimetype": "text/x-python",
   "name": "python",
   "nbconvert_exporter": "python",
   "pygments_lexer": "ipython3",
   "version": "3.8.5"
  }
 },
 "nbformat": 4,
 "nbformat_minor": 4
}
