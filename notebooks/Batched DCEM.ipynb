{
 "cells": [
  {
   "cell_type": "code",
   "execution_count": 1,
   "metadata": {},
   "outputs": [],
   "source": [
    "from dcem import dcem\n",
    "import torch\n",
    "import torch.nn as nn\n",
    "import torch.nn.functional as F"
   ]
  },
  {
   "cell_type": "code",
   "execution_count": 2,
   "metadata": {},
   "outputs": [
    {
     "data": {
      "text/plain": [
       "tensor([[0.2956],\n",
       "        [1.0160],\n",
       "        [1.2554],\n",
       "        [2.9635],\n",
       "        [3.9341],\n",
       "        [5.1605],\n",
       "        [5.9382],\n",
       "        [6.9756],\n",
       "        [7.9605],\n",
       "        [7.8976]])"
      ]
     },
     "execution_count": 2,
     "metadata": {},
     "output_type": "execute_result"
    }
   ],
   "source": [
    "B = 10\n",
    "init_mu = torch.ones(B, 1)\n",
    "init_sigma = torch.ones(B, 1) * 10\n",
    "n_sample = 20\n",
    "n_elite = 10\n",
    "n_iter = 10\n",
    "device='cpu'\n",
    "\n",
    "def f(z):\n",
    "    energies = torch.zeros(B, n_sample)\n",
    "    for b in range(B):\n",
    "        energies[b] = torch.sin((z[b, :, 0]-b) - 3.14159/2) + (z[b, :, 0]-b)**2\n",
    "    return energies\n",
    "    \n",
    "min_z = dcem(f=f, nx=1, n_batch=B, init_mu=init_mu, init_sigma=init_sigma, n_sample=n_sample, n_elite=n_elite, n_iter=n_iter, device=device)\n",
    "min_z"
   ]
  },
  {
   "cell_type": "code",
   "execution_count": 12,
   "metadata": {},
   "outputs": [
    {
     "name": "stdout",
     "output_type": "stream",
     "text": [
      "x tensor([[ 1.3250, -0.5254,  0.9028,  0.6246],\n",
      "        [-1.2589,  0.1180, -1.4028,  0.6246],\n",
      "        [ 1.3250, -0.5254,  0.9028,  0.7514],\n",
      "        [-1.2589,  0.1180, -1.4028,  0.7514]])\n",
      "all torch.Size([4, 4, 3])\n",
      "tensor([[[2.0323e+00, 6.2391e-03, 1.0195e-01],\n",
      "         [5.5355e+00, 1.2224e+00, 1.2101e+00],\n",
      "         [1.9030e+00, 2.4212e-03, 1.1597e-01],\n",
      "         [5.7546e+00, 1.1575e+00, 1.2573e+00]],\n",
      "\n",
      "        [[1.1015e+00, 3.4208e-02, 3.4445e+00],\n",
      "         [1.2385e-03, 1.8592e-01, 1.9519e+00],\n",
      "         [5.3571e-01, 1.5222e-01, 2.9224e+00],\n",
      "         [1.2448e-01, 4.0498e-01, 1.5641e+00]],\n",
      "\n",
      "        [[1.0964e-01, 2.7969e+00, 7.9195e-01],\n",
      "         [4.5584e+00, 2.0869e-01, 2.3013e-01],\n",
      "         [2.8613e-02, 2.4579e+00, 6.6463e-01],\n",
      "         [3.8930e+00, 1.2404e-01, 1.6406e-01]],\n",
      "\n",
      "        [[1.8898e-02, 5.5376e+00, 1.3319e+00],\n",
      "         [3.7848e-01, 2.2548e+00, 2.8547e-01],\n",
      "         [3.8144e-02, 5.7149e+00, 1.2711e+00],\n",
      "         [4.5299e-01, 2.1440e+00, 3.1467e-01]]], grad_fn=<MseLossBackward>)\n",
      "red torch.Size([4, 4])\n",
      "tensor([[2.1405, 7.9680, 2.0214, 8.1693],\n",
      "        [4.5803, 2.1390, 3.6104, 2.0936],\n",
      "        [3.6985, 4.9972, 3.1511, 4.1811],\n",
      "        [6.8885, 2.9187, 7.0241, 2.9116]], grad_fn=<SumBackward1>)\n",
      "eview torch.Size([4, 2, 2])\n",
      "tensor([[[2.1405, 7.9680],\n",
      "         [2.0214, 8.1693]],\n",
      "\n",
      "        [[4.5803, 2.1390],\n",
      "         [3.6104, 2.0936]],\n",
      "\n",
      "        [[3.6985, 4.9972],\n",
      "         [3.1511, 4.1811]],\n",
      "\n",
      "        [[6.8885, 2.9187],\n",
      "         [7.0241, 2.9116]]], grad_fn=<ViewBackward>)\n",
      "xs tensor([ 1.3250, -0.5254,  0.9028,  0.6246])\n",
      "e tensor(2.1405, grad_fn=<MseLossBackward>)\n",
      "xs tensor([-1.2589,  0.1180, -1.4028,  0.6246])\n",
      "e tensor(7.9680, grad_fn=<MseLossBackward>)\n",
      "energy batch tensor(10.1085, grad_fn=<SelectBackward>)\n",
      "energy single tensor(10.1085, grad_fn=<AddBackward0>)\n"
     ]
    }
   ],
   "source": [
    "B = 4\n",
    "n_context = 2\n",
    "d_x = 3\n",
    "n_sample = 2\n",
    "n_elite = 10\n",
    "n_iter = 10\n",
    "z_dim = 1\n",
    "\n",
    "batch_X = torch.randn(B, n_context, d_x)\n",
    "batch_Y = torch.randn(B, n_context, d_x)\n",
    "\n",
    "model = nn.Linear(d_x + z_dim, d_x)\n",
    "\n",
    "init_mu = torch.ones(B, 1)\n",
    "init_sigma = torch.ones(B, 1) * 10\n",
    "energies_all = None\n",
    "batch_idx = 0\n",
    "sample_idx = 0\n",
    "\n",
    "def f(z):\n",
    "    global energies_all\n",
    "    x_rep = batch_X.repeat(1, n_sample, 1)\n",
    "    y_rep = batch_Y.repeat(1, n_sample, 1)\n",
    "#     z_rep = z.repeat(1, n_context, 1)\n",
    "    z_rep = z.tile((1, n_context)).view(B, n_sample * n_context, -1)\n",
    "    x = torch.cat([x_rep, z_rep], dim=-1)\n",
    "    print('x', x[batch_idx])\n",
    "    s_hat = model(x)\n",
    "    energies_all = F.mse_loss(y_rep, s_hat, reduction='none')\n",
    "    print('all', energies_all.shape)\n",
    "    print(energies_all)\n",
    "    energies_red = energies_all.sum(dim=-1)\n",
    "    print('red', energies_red.shape)\n",
    "    print(energies_red)\n",
    "    eview = energies_red.view(B, n_sample, n_context)\n",
    "    print('eview', eview.shape)\n",
    "    print(eview)\n",
    "    energies = eview.sum(dim=-1)\n",
    "    return energies\n",
    "\n",
    "# min_z = dcem(f=f, nx=1, n_batch=B, init_mu=init_mu, init_sigma=init_sigma, n_sample=n_sample, n_elite=n_elite, n_iter=n_iter, device=device)\n",
    "zs = torch.randn(B, n_sample, 1)\n",
    "energies = f(zs)\n",
    "\n",
    "z = zs[batch_idx, sample_idx]\n",
    "energy = 0.\n",
    "for i in range(n_context):\n",
    "    x = torch.cat([batch_X[batch_idx, i], z])\n",
    "    print('xs', x)\n",
    "    s_hat = model(x)\n",
    "    e = F.mse_loss(batch_Y[batch_idx, i], s_hat, reduction='sum')\n",
    "    print('e', e)\n",
    "    energy += e\n",
    "print('energy batch', energies[batch_idx, sample_idx])\n",
    "print('energy single', energy)"
   ]
  },
  {
   "cell_type": "code",
   "execution_count": null,
   "metadata": {},
   "outputs": [],
   "source": [
    "print(batch_X.shape)"
   ]
  },
  {
   "cell_type": "code",
   "execution_count": null,
   "metadata": {},
   "outputs": [],
   "source": [
    "energies_all"
   ]
  },
  {
   "cell_type": "code",
   "execution_count": null,
   "metadata": {},
   "outputs": [],
   "source": [
    "energies"
   ]
  },
  {
   "cell_type": "code",
   "execution_count": 11,
   "metadata": {},
   "outputs": [
    {
     "name": "stdout",
     "output_type": "stream",
     "text": [
      "torch.Size([4, 4, 1])\n",
      "tensor([[[ 1.8364],\n",
      "         [ 0.5219],\n",
      "         [ 1.8364],\n",
      "         [ 0.5219]],\n",
      "\n",
      "        [[-0.5998],\n",
      "         [-0.3751],\n",
      "         [-0.5998],\n",
      "         [-0.3751]],\n",
      "\n",
      "        [[-0.8130],\n",
      "         [ 1.1510],\n",
      "         [-0.8130],\n",
      "         [ 1.1510]],\n",
      "\n",
      "        [[ 1.1416],\n",
      "         [-0.1184],\n",
      "         [ 1.1416],\n",
      "         [-0.1184]]])\n",
      "torch.Size([4, 4, 1])\n",
      "tensor([[[ 1.8364],\n",
      "         [ 1.8364],\n",
      "         [ 0.5219],\n",
      "         [ 0.5219]],\n",
      "\n",
      "        [[-0.5998],\n",
      "         [-0.5998],\n",
      "         [-0.3751],\n",
      "         [-0.3751]],\n",
      "\n",
      "        [[-0.8130],\n",
      "         [-0.8130],\n",
      "         [ 1.1510],\n",
      "         [ 1.1510]],\n",
      "\n",
      "        [[ 1.1416],\n",
      "         [ 1.1416],\n",
      "         [-0.1184],\n",
      "         [-0.1184]]])\n"
     ]
    }
   ],
   "source": [
    "z = torch.randn(B, n_sample, 1)\n",
    "print(z.repeat(1, n_context, 1).shape)\n",
    "print(z.repeat(1, n_context, 1))\n",
    "z_rep = z.tile((1, n_context)).view(-1, n_sample * n_context, z_dim)\n",
    "print(z_rep.shape)\n",
    "print(z_rep)"
   ]
  },
  {
   "cell_type": "code",
   "execution_count": null,
   "metadata": {},
   "outputs": [],
   "source": []
  }
 ],
 "metadata": {
  "kernelspec": {
   "display_name": "Python 3",
   "language": "python",
   "name": "python3"
  },
  "language_info": {
   "codemirror_mode": {
    "name": "ipython",
    "version": 3
   },
   "file_extension": ".py",
   "mimetype": "text/x-python",
   "name": "python",
   "nbconvert_exporter": "python",
   "pygments_lexer": "ipython3",
   "version": "3.8.5"
  }
 },
 "nbformat": 4,
 "nbformat_minor": 4
}
