{
 "cells": [
  {
   "cell_type": "code",
   "execution_count": 1,
   "metadata": {},
   "outputs": [],
   "source": [
    "from varyingsim.models.vq_vae import VQVAE\n",
    "from varyingsim.datasets.fov_dataset import SmoothFovDataset\n",
    "from varyingsim.envs.push_box_offset import PushBoxOffset\n",
    "from varyingsim.models.osi import OSIModel\n",
    "from varyingsim.models.feed_forward import FeedForward\n",
    "from varyingsim.util.view import get_transform, global_to_local_obs\n",
    "import torch, torchgeometry\n",
    "import numpy as np\n",
    "import matplotlib.pyplot as plt"
   ]
  },
  {
   "cell_type": "code",
   "execution_count": 2,
   "metadata": {},
   "outputs": [],
   "source": [
    "H = 2\n",
    "\n",
    "location = '/data/varyingsim/datasets/push_box_com_n_100_T_2000.pickle'\n",
    "dataset = SmoothFovDataset(location, H, obs_skip=50, include_full=True)\n",
    "\n",
    "env = PushBoxOffset()\n",
    "\n",
    "# d_in = env.\n",
    "# d_param = \n",
    "# d_share = \n",
    "# d_hidden_shared = \n",
    "# d_hidden_osi = \n",
    "\n",
    "# osi_model = OSIModel(env, H, d_in, d_param, d_share, d_hidden_shared, d_hidden_osi)\n",
    "\n",
    "# model = VQVAE(env, H, encoder, decoder, k, d, device='cuda')"
   ]
  },
  {
   "cell_type": "code",
   "execution_count": 3,
   "metadata": {},
   "outputs": [],
   "source": [
    "def plot_obs(obs, scale=10.0, lim=0.5):\n",
    "    box_xy = obs[:2]\n",
    "    pusher_xy = obs[7:9] - torch.tensor([ 0.2 ,0.0])\n",
    "    box_orient = torchgeometry.quaternion_to_angle_axis(obs[3:7])\n",
    "    vx = np.cos(box_orient[2]) / scale\n",
    "    vy = np.sin(box_orient[2]) / scale\n",
    "    plt.arrow(box_xy[0], box_xy[1], vx, vy, width=0.004, label='box_xy')\n",
    "    plt.scatter(pusher_xy[0], pusher_xy[1], label='pusher_xy')\n",
    "    plt.xlim(-lim, lim)\n",
    "    plt.ylim(-lim, lim)\n",
    "    plt.show()"
   ]
  },
  {
   "cell_type": "code",
   "execution_count": 4,
   "metadata": {},
   "outputs": [],
   "source": [
    "def render_obs(obs, T=1000):\n",
    "    env = PushBoxOffset()\n",
    "    env.reset()\n",
    "    qpos, qvel = torch.split(obs, 9)\n",
    "    env.set_state(qpos.numpy(), qvel.numpy())\n",
    "    for t in range(T):\n",
    "        env.sim.step()\n",
    "        env.render()\n",
    "    env.close()"
   ]
  },
  {
   "cell_type": "code",
   "execution_count": 5,
   "metadata": {},
   "outputs": [
    {
     "name": "stdout",
     "output_type": "stream",
     "text": [
      "obs\n",
      "[-3.91630367e-06  4.16045359e-23  9.99868682e-02  1.00000000e+00\n",
      " -4.35181641e-22 -1.58072301e-05  5.89387006e-22  3.49523994e-01\n",
      "  4.74351966e-22 -1.29018759e-03 -6.98785463e-22 -3.45926836e-03\n",
      " -1.85035569e-19 -8.48796378e-03  3.54680008e-19 -1.12709195e-01\n",
      "  8.68548480e-20]\n",
      "qpos\n",
      "[-3.91630367e-06  4.16045359e-23  9.99868682e-02  1.00000000e+00\n",
      " -4.35181641e-22 -1.58072301e-05  5.89387006e-22  3.49523994e-01\n",
      "  4.74351966e-22]\n",
      "obs_90\n",
      "[-8.21194763e-06 -1.47160374e-06  9.99736207e-02  7.07106783e-01\n",
      "  1.14297631e-05 -1.16786245e-05  7.07106780e-01  1.99996067e-01\n",
      "  1.49522002e-01 -8.83270450e-04 -7.30372325e-04 -3.16069381e-03\n",
      " -1.53155896e-04 -8.00996280e-03 -2.00026012e-06 -7.95736027e-06\n",
      " -1.12688755e-01]\n",
      "qpos_90\n",
      "[-8.21194763e-06 -1.47160374e-06  9.99736207e-02  7.07106783e-01\n",
      "  1.14297631e-05 -1.16786245e-05  7.07106780e-01  1.99996067e-01\n",
      "  1.49522002e-01]\n"
     ]
    }
   ],
   "source": [
    "obs = env.reset()\n",
    "act = [0.5, 0.0, 0.0, 1.0]\n",
    "obs, rew, done, info = env.step(act)\n",
    "print('obs')\n",
    "print(obs)\n",
    "print('qpos')\n",
    "print(env.sim.data.qpos)\n",
    "act_t = torch.tensor(act).float()\n",
    "obs_t = torch.tensor(obs).float()\n",
    "\n",
    "act_90 = [0.5, 0.0, 0.0, 1.0]\n",
    "env.reset()\n",
    "obs_90, rew, done, info = env.step(act_90)\n",
    "qpos, qvel = torch.split(torch.tensor(obs_90).float(), 9)\n",
    "qpos[3:7] = torchgeometry.angle_axis_to_quaternion(torch.tensor([0,0, np.pi / 2]))\n",
    "env.set_state(qpos.numpy(), qvel.numpy())\n",
    "obs_90, rew, done, info = env.step(act_90)\n",
    "print('obs_90')\n",
    "print(obs_90)\n",
    "print('qpos_90')\n",
    "print(env.sim.data.qpos)\n",
    "act_t_90 = torch.tensor(act_90).float()\n",
    "obs_t_90 = torch.tensor(obs_90).float()\n",
    "\n",
    "M, M_inv, all_angles = get_transform(obs_t)\n",
    "M_90, M_90_inv, all_angles_90 = get_transform(obs_t_90)\n",
    "\n",
    "obs_relative = global_to_local_obs(obs_t, M_inv, all_angles)\n",
    "obs_relative_90 = global_to_local_obs(obs_t_90, M_90_inv, all_angles_90)"
   ]
  },
  {
   "cell_type": "code",
   "execution_count": 8,
   "metadata": {},
   "outputs": [
    {
     "name": "stdout",
     "output_type": "stream",
     "text": [
      "tensor([-3.9163e-06,  4.1605e-23,  9.9987e-02,  1.0000e+00, -4.3518e-22,\n",
      "        -1.5807e-05,  5.8939e-22,  1.4952e-01,  4.7435e-22, -1.2902e-03,\n",
      "        -6.9879e-22, -3.4593e-03, -1.8504e-19, -8.4880e-03,  3.5468e-19,\n",
      "        -1.1271e-01,  8.6855e-20])\n",
      "tensor([-8.2119e-06, -1.4716e-06,  9.9974e-02,  7.0711e-01,  1.1430e-05,\n",
      "        -1.1679e-05,  7.0711e-01, -3.9339e-06,  1.4952e-01, -8.8327e-04,\n",
      "        -7.3037e-04, -3.1607e-03, -1.5316e-04, -8.0100e-03, -2.0003e-06,\n",
      "        -7.9574e-06, -1.1269e-01])\n",
      "\n",
      "tensor([ 0.0000e+00,  0.0000e+00,  0.0000e+00,  1.0000e+00,  0.0000e+00,\n",
      "        -2.5644e-43,  0.0000e+00, -1.4953e-01, -2.5648e-22, -1.2903e-03,\n",
      "        -6.9425e-22, -3.4592e-03, -1.8503e-19, -8.4880e-03,  3.5468e-19,\n",
      "        -1.1271e-01,  8.6988e-20])\n",
      "tensor([ 0.0000e+00,  0.0000e+00,  0.0000e+00,  1.0000e+00,  0.0000e+00,\n",
      "        -9.0949e-13,  0.0000e+00, -1.4952e-01,  4.2845e-06, -7.3048e-04,\n",
      "         8.8327e-04, -3.1607e-03, -8.0100e-03,  1.5316e-04, -1.7384e-06,\n",
      "        -1.1269e-01,  7.9623e-06])\n",
      "Creating window glfw\n"
     ]
    }
   ],
   "source": [
    "print(obs_t)\n",
    "print(obs_t_90)\n",
    "print()\n",
    "print(obs_relative)\n",
    "print(obs_relative_90)\n",
    "\n",
    "# plot_obs(obs_t)\n",
    "# plot_obs(obs_t_90)\n",
    "\n",
    "# render_obs(obs_t_90)\n",
    "render_obs(obs_t)\n"
   ]
  },
  {
   "cell_type": "code",
   "execution_count": 7,
   "metadata": {},
   "outputs": [],
   "source": [
    "# model trainer takes in model and trains it\n",
    "# TODO: compare relative observation to absolute!!!\n"
   ]
  },
  {
   "cell_type": "code",
   "execution_count": null,
   "metadata": {},
   "outputs": [],
   "source": []
  }
 ],
 "metadata": {
  "kernelspec": {
   "display_name": "Python 3",
   "language": "python",
   "name": "python3"
  },
  "language_info": {
   "codemirror_mode": {
    "name": "ipython",
    "version": 3
   },
   "file_extension": ".py",
   "mimetype": "text/x-python",
   "name": "python",
   "nbconvert_exporter": "python",
   "pygments_lexer": "ipython3",
   "version": "3.8.5"
  }
 },
 "nbformat": 4,
 "nbformat_minor": 4
}
